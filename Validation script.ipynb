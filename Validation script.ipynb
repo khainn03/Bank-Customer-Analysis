{
 "cells": [
  {
   "cell_type": "code",
   "execution_count": 3,
   "id": "e9cc4bf8",
   "metadata": {},
   "outputs": [
    {
     "name": "stdout",
     "output_type": "stream",
     "text": [
      "The 95% confidence interval for the mean balance is:  (array([44798.75727245]), array([87815.4568452]))\n"
     ]
    }
   ],
   "source": [
    "import pandas as pd\n",
    "import scipy.stats as st\n",
    "df = pd.read_excel(\"Assignment.xlsx\", \"Sample\")\n",
    "#filtered data\n",
    "fembal = df[df[\"Gender\"] == \"Female\"]\n",
    "#print(fembal.shape)\n",
    "\n",
    "n = fembal [[\"Balance\"]].count()\n",
    "df_fembal = n - 1\n",
    "meanfb = fembal [[\"Balance\"]].mean()\n",
    "stdev = fembal [[\"Balance\"]].std()\n",
    "stderrfb = stdev/(n**0.5)\n",
    "print(\"The 95% confidence interval for the mean balance is: \", st.t.interval(0.95, df_fembal, meanfb, stderrfb))\n"
   ]
  },
  {
   "cell_type": "code",
   "execution_count": 6,
   "id": "723f3042",
   "metadata": {},
   "outputs": [
    {
     "name": "stdout",
     "output_type": "stream",
     "text": [
      "(34, 9)\n",
      "The true mean is Balance    66307.107059\n",
      "dtype: float64\n"
     ]
    }
   ],
   "source": [
    "import pandas as pd\n",
    "import scipy.stats as st\n",
    "dfp = pd.read_excel(\"Assignment.xlsx\", \"Sample\")\n",
    "#filtered data\n",
    "fembalp = dfp[dfp[\"Gender\"] == \"Female\"]\n",
    "print(fembalp.shape)\n",
    "meanfbp = fembalp [[\"Balance\"]].mean()\n",
    "print (\"The true mean is\", meanfbp)"
   ]
  },
  {
   "cell_type": "code",
   "execution_count": 9,
   "id": "bb3114a6",
   "metadata": {},
   "outputs": [
    {
     "name": "stdout",
     "output_type": "stream",
     "text": [
      "(23, 9)\n",
      "The 95% confidence interval for the mean age is:  (array([32.56873631]), array([39.25735064]))\n"
     ]
    }
   ],
   "source": [
    "import pandas as pd\n",
    "import scipy.stats as st\n",
    "df = pd.read_excel(\"Assignment.xlsx\", \"Sample\")\n",
    "#filtered data\n",
    "spain = df[df[\"Geography\"] == \"Spain\"]\n",
    "print(spain.shape)\n",
    "n = spain [[\"Age\"]].count()\n",
    "df_spain = n - 1\n",
    "meanspain = spain [[\"Age\"]].mean()\n",
    "stdev = spain [[\"Age\"]].std()\n",
    "stderrspain = stdev/(n**0.5)\n",
    "print(\"The 95% confidence interval for the mean age is: \", st.t.interval(0.95, df_spain, meanspain, stderrspain))\n"
   ]
  },
  {
   "cell_type": "code",
   "execution_count": 10,
   "id": "3fec67f5",
   "metadata": {},
   "outputs": [
    {
     "name": "stdout",
     "output_type": "stream",
     "text": [
      "The true mean age is Age    35.913043\n",
      "dtype: float64\n"
     ]
    }
   ],
   "source": [
    "dfp = pd.read_excel(\"Assignment.xlsx\", \"Sample\")\n",
    "#filtered data\n",
    "spainp = dfp[dfp[\"Geography\"] == \"Spain\"]\n",
    "meanspainp = spainp [[\"Age\"]].mean()\n",
    "print (\"The true mean age is\", meanspainp)"
   ]
  },
  {
   "cell_type": "code",
   "execution_count": null,
   "id": "a960b51d",
   "metadata": {},
   "outputs": [],
   "source": []
  }
 ],
 "metadata": {
  "kernelspec": {
   "display_name": "Python 3 (ipykernel)",
   "language": "python",
   "name": "python3"
  },
  "language_info": {
   "codemirror_mode": {
    "name": "ipython",
    "version": 3
   },
   "file_extension": ".py",
   "mimetype": "text/x-python",
   "name": "python",
   "nbconvert_exporter": "python",
   "pygments_lexer": "ipython3",
   "version": "3.9.7"
  }
 },
 "nbformat": 4,
 "nbformat_minor": 5
}
